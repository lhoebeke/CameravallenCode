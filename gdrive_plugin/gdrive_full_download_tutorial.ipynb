{
 "cells": [
  {
   "cell_type": "markdown",
   "metadata": {},
   "source": [
    "# Downloading project from gdrive"
   ]
  },
  {
   "cell_type": "markdown",
   "metadata": {},
   "source": [
    "Use the gdrive plugin to download the images"
   ]
  },
  {
   "cell_type": "code",
   "execution_count": 7,
   "metadata": {
    "collapsed": true
   },
   "outputs": [],
   "source": [
    "from gdrive_interaction import GDriveConnect"
   ]
  },
  {
   "cell_type": "code",
   "execution_count": 8,
   "metadata": {
    "collapsed": true
   },
   "outputs": [],
   "source": [
    "# ADAPT TO YOUR DIRECTORY STRUCTURE\n",
    "gconnect = GDriveConnect(cred_file=\"/home/stijn_vanhoey/.credentials/drive-python-quickstart.json\")"
   ]
  },
  {
   "cell_type": "markdown",
   "metadata": {},
   "source": [
    "### Downloading all photos of a project folder to local storage"
   ]
  },
  {
   "cell_type": "code",
   "execution_count": 9,
   "metadata": {
    "collapsed": true
   },
   "outputs": [],
   "source": [
    "import os"
   ]
  },
  {
   "cell_type": "markdown",
   "metadata": {},
   "source": [
    "Define the main local folder to store the images in (*remark, this can be a external drive as well*:"
   ]
  },
  {
   "cell_type": "code",
   "execution_count": 10,
   "metadata": {
    "collapsed": true
   },
   "outputs": [],
   "source": [
    "main_project_folder = \"./hoge_kempen\""
   ]
  },
  {
   "cell_type": "code",
   "execution_count": 11,
   "metadata": {},
   "outputs": [
    {
     "data": {
      "text/plain": [
       "{'id': '0B4xlTsZWnBR9eThfenBnYWNGOUk',\n",
       " 'kind': 'drive#file',\n",
       " 'mimeType': 'application/vnd.google-apps.folder',\n",
       " 'name': 'f9484c4e-20d0-4af9-a084-c3702d37e282'}"
      ]
     },
     "execution_count": 11,
     "metadata": {},
     "output_type": "execute_result"
    }
   ],
   "source": [
    "deployments = list(gconnect.list_deployments())\n",
    "deployments[0]"
   ]
  },
  {
   "cell_type": "markdown",
   "metadata": {},
   "source": [
    "Example: download 1 image for each of the deployments"
   ]
  },
  {
   "cell_type": "code",
   "execution_count": 6,
   "metadata": {},
   "outputs": [
    {
     "name": "stdout",
     "output_type": "stream",
     "text": [
      "Download ./hoge_kempen/7d9e4158-e60c-4166-9c94-f4dec4fcd4cb/20170908131109-IMG_0552.JPG 100%.\n",
      "Download ./hoge_kempen/3ab500a7-4c25-4f55-b9dc-e34f28f64a88/20170726145609-IMG_0509.JPG 92%.\n",
      "Download ./hoge_kempen/3ab500a7-4c25-4f55-b9dc-e34f28f64a88/20170726145609-IMG_0509.JPG 100%.\n"
     ]
    }
   ],
   "source": [
    "for deployment in deployments:\n",
    "    gconnect.download_deployment_images(deployment, main_project_folder, nlim=1)"
   ]
  },
  {
   "cell_type": "markdown",
   "metadata": {
    "collapsed": true
   },
   "source": [
    "### Command line tool"
   ]
  },
  {
   "cell_type": "markdown",
   "metadata": {},
   "source": [
    "Using the download tool from the command line:"
   ]
  },
  {
   "cell_type": "code",
   "execution_count": 23,
   "metadata": {},
   "outputs": [
    {
     "name": "stdout",
     "output_type": "stream",
     "text": [
      "Usage: gdrive_download_cli.py [OPTIONS] CREDENTIALS LOCAL_DIR\r\n",
      "\r\n",
      "  Download all deployments from a google drive folder, using the  google API\r\n",
      "  CREDENTIALS file for the connection and a LOCAL_DIR to copy data to\r\n",
      "\r\n",
      "Options:\r\n",
      "  --gdrive_hash TEXT  Hash (see URL) of the google drive folder to download\r\n",
      "  --nlim TEXT         Limit the number of files to check for each deployment\r\n",
      "  --help              Show this message and exit.\r\n"
     ]
    }
   ],
   "source": [
    "!python gdrive_download_cli.py --help"
   ]
  },
  {
   "cell_type": "markdown",
   "metadata": {},
   "source": [
    "For example:\n",
    "\n",
    "```\n",
    "python gdrive_download_cli.py drive-cred.json ./hoge_kempen/\n",
    "```"
   ]
  }
 ],
 "metadata": {
  "kernelspec": {
   "display_name": "Python 3",
   "language": "python",
   "name": "python3"
  },
  "language_info": {
   "codemirror_mode": {
    "name": "ipython",
    "version": 3
   },
   "file_extension": ".py",
   "mimetype": "text/x-python",
   "name": "python",
   "nbconvert_exporter": "python",
   "pygments_lexer": "ipython3",
   "version": "3.5.4"
  }
 },
 "nbformat": 4,
 "nbformat_minor": 2
}
